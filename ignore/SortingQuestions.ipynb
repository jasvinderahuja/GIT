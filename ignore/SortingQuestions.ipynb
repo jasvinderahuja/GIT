{
 "cells": [
  {
   "cell_type": "markdown",
   "metadata": {},
   "source": [
    "Questions:"
   ]
  },
  {
   "cell_type": "markdown",
   "metadata": {},
   "source": [
    "Runners numbered from 0 to n-1 race on a straight one-way road to a common\n",
    "finish line. The runners have different (constant) speeds and start at different\n",
    "distances from the finish line. Specifically, runner i has speed s[i] and begins at\n",
    "distance d[i] from the finish line. Each runner stops at the finish line, and the\n",
    "race ends when all the runners have reached the finish line. How many times\n",
    "does one runner pass another?"
   ]
  },
  {
   "cell_type": "markdown",
   "metadata": {},
   "source": [
    "[What is the most efficient way to sort a million 32-bit integers?](https://www.quora.com/What-is-the-most-efficient-way-to-sort-a-million-32-bit-integers)"
   ]
  },
  {
   "cell_type": "markdown",
   "metadata": {},
   "source": []
  },
  {
   "cell_type": "markdown",
   "metadata": {},
   "source": []
  }
 ],
 "metadata": {
  "language_info": {
   "name": "python"
  }
 },
 "nbformat": 4,
 "nbformat_minor": 2
}
